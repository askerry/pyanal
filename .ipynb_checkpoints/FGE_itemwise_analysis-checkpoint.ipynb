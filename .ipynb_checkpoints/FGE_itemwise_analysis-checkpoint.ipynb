{
 "metadata": {
  "name": "",
  "signature": "sha256:4a6dc4781859a1f0c475242f81773e6b7c82df1a8864b76ac69686294245b6db"
 },
 "nbformat": 3,
 "nbformat_minor": 0,
 "worksheets": [
  {
   "cells": [
    {
     "cell_type": "code",
     "collapsed": false,
     "input": [
      "pylab inline"
     ],
     "language": "python",
     "metadata": {},
     "outputs": [
      {
       "output_type": "stream",
       "stream": "stdout",
       "text": [
        "Populating the interactive namespace from numpy and matplotlib\n"
       ]
      }
     ],
     "prompt_number": 1
    },
    {
     "cell_type": "code",
     "collapsed": false,
     "input": [
      "import sys\n",
      "import matplotlib.pyplot as plt\n",
      "sys.path.append('/mindhive/saxelab/u/askerry/mypythonenv/lib/python2.7/site-packages/PyMVPA/') #for pymvpa\n",
      "sys.path.append('/mindhive/saxelab/scripts/aesscripts/') #for mypymvpa\n",
      "sys.path.insert(0,'/software/nipy-repo/nipy-suite/nibabel') #insert this so it gets used instead of nibabel in mypythonenv\n",
      "sys.path.append('/software/python/anaconda/lib/python2.7/site-packages/') #for h5py\n",
      "import numpy as np\n",
      "import datetime\n",
      "import scipy\n",
      "import pandas as pd\n",
      "import h5py\n",
      "import glob\n",
      "import pickle\n",
      "from mypymvpa.utilities.stats import ttestaccs\n",
      "from mypymvpa.utilities.misc import makeIDs\n",
      "import mypymvpa.utilities.misc as mum\n",
      "import mypymvpa.utilities.stats as mus\n",
      "import mypymvpa.utilities.visualization as viz\n",
      "from mypymvpa.analysisobjs.mainobjs import ClassificationResults\n",
      "import pickle"
     ],
     "language": "python",
     "metadata": {},
     "outputs": [],
     "prompt_number": 2
    },
    {
     "cell_type": "code",
     "collapsed": false,
     "input": [
      "#load experiment\n",
      "rootdir='/mindhive/saxelab2/FGE/'\n",
      "rootanalysisdir=rootdir+'pymvparesults/'\n",
      "expfile=rootanalysisdir+'ExpObj_FGE_main_boldspilot.pkl'\n",
      "subdir='subjresults_clf_skSVM_None_full_hpf_zsc_FGE_main_bolds_pilot/'\n",
      "clfstring='clf_skSVM_None_full_hpf_zsc'\n",
      "subjobjname='SubjObj_%s_FGE_main_bolds'\n",
      "e=mum.loadpickledobject(expfile)\n",
      "e.crosssubj=False\n",
      "savetag='pilot'\n",
      "printit=True\n",
      "e.saveexp()\n",
      "numitems=200\n",
      "numitemspercond=10\n",
      "\n",
      "#limit to subsets if desired\n",
      "discs=e.discriminations.keys()\n",
      "roilist=e.roinames\n",
      "try:\n",
      "    discs.remove('emovspain')\n",
      "except:\n",
      "    pass\n",
      "\n",
      "conditions=['DEV', 'DIP', 'ANN', 'APP', 'DIG', 'EMB', 'FUR', 'GUI', 'JEA', 'TER', 'LON', 'EXC', 'JOY', 'PRO', 'CON', 'GRA', 'HOP', 'IMP', 'NOS', 'SUR']"
     ],
     "language": "python",
     "metadata": {},
     "outputs": [
      {
       "output_type": "stream",
       "stream": "stdout",
       "text": [
        "saved experiment to /mindhive/saxelab2/FGE/pymvparesults/ExpObj_FGE_main_boldspilot.pkl\n"
       ]
      }
     ],
     "prompt_number": 136
    },
    {
     "cell_type": "code",
     "collapsed": false,
     "input": [
      "#desired subjects for this analysis\n",
      "subjlist=makeIDs('FGE',[1,2,3,4,5,6,7,8,9,10,11,12,13,14,15,16,17,18,19,20])\n",
      "e.subjects=subjlist\n",
      "#create a list of subject objects in the exp\n",
      "subjects=e.makesubjects()\n",
      "#if you want to change to a subset of subjects\n",
      "if savetag=='pilot':\n",
      "    subjsubset=subjlist #all subjects"
     ],
     "language": "python",
     "metadata": {},
     "outputs": [],
     "prompt_number": 5
    },
    {
     "cell_type": "code",
     "collapsed": false,
     "input": [
      "class ItemResult():\n",
      "    def __init__(roi,disc,conditions, items, avgaccuracy=None, avgintensity=None, confusions=None):\n",
      "        self.roi=roi\n",
      "        self.conditions=conditions\n",
      "        self.items=items\n",
      "        self.disc=disc\n",
      "        self.avgaccuracy=avgaccuracy\n",
      "        self.avgintensity=avgintensity\n",
      "        self.confusions=confusions\n",
      "    def itemsave():\n",
      "        pass\n",
      "\n",
      "def orderresults(items, r):\n",
      "    uacc=[el for sublist in r.details['accuracies'] for el in sublist]\n",
      "    upred=[el for sublist in r.details['predictions'] for el in sublist]\n",
      "    uintensity=[int(el) for sublist in r.details['itemintensities'] for el in sublist]\n",
      "    uitems=[el for sublist in r.details['items'] for el in sublist]\n",
      "    oacc,opred,ointensity=[],[],[]\n",
      "    for i in items:\n",
      "        try:\n",
      "            index=uitems.index(i)\n",
      "            oacc.append(uacc[index])\n",
      "            opred.append(upred[index])\n",
      "            ointensity.append(uintensity[index])\n",
      "        except:\n",
      "            oacc.append(np.nan)\n",
      "            opred.append(np.nan)\n",
      "            ointensity.append(np.nan)\n",
      "    return oacc, opred, ointensity\n",
      "def comparecorcin(accuracies, intensities):\n",
      "    correct=[int(intensities[eln]) for eln,el in enumerate(accuracies) if el==True and int(intensities[eln])!=0]\n",
      "    incorrect=[int(intensities[eln]) for eln,el in enumerate(accuracies) if el==False and int(intensities[eln])!=0]\n",
      "    cmean=np.mean(correct)\n",
      "    imean=np.mean(incorrect)\n",
      "    cidiff=cmean-imean\n",
      "    return cidiff\n",
      "def makeitem(cond,num):\n",
      "    if num>9:\n",
      "        item=cond+'_0'+str(num)\n",
      "    else:\n",
      "        item=cond+'_00'+str(num)\n",
      "    return item\n",
      "def countpredictions(predictions, items, conditions):\n",
      "    unorderedclasses=list(set(predictions[0]))\n",
      "    classes=[c for c in conditions if c in unorderedclasses]\n",
      "    if len(classes)!=len(unorderedclasses):\n",
      "        classes=unorderedclasses\n",
      "    predcounts={item:[0 for c in classes] for item in items}\n",
      "    for subjpred in predictions:\n",
      "        for inum,i in enumerate(items):\n",
      "            pred=subjpred[inum]\n",
      "            try:\n",
      "                predcounts[i][classes.index(pred)]+=1\n",
      "            except:\n",
      "                pass\n",
      "    return predcounts, classes\n",
      "def saveintensities(intensities,items):\n",
      "    intensityratings={}\n",
      "    itemavgs=list(np.nanmean(intensities,axis=0))\n",
      "    intensityratings['itemavgs']=itemavgs\n",
      "    intensityratings['itemlabels']=items\n",
      "    with open('/mindhive/saxelab2/FGE/intensityratings.pkl', 'wb') as output:\n",
      "        pickler = pickle.Pickler(output, pickle.HIGHEST_PROTOCOL)\n",
      "        pickler.dump(intensityratings)\n",
      "def makeconfmatrix(predcounts, classes, items, discmapping):\n",
      "    confmat=[]\n",
      "    for c in classes:\n",
      "        relevantcounts=[predcounts[i] for i in items if i[0:3] in discmapping[c]]\n",
      "        countavgs=np.nanmean(relevantcounts, axis=0)\n",
      "        countsums=np.sum(countavgs)\n",
      "        countavgs=[c/countsums for c in countavgs]\n",
      "        confmat.append(countavgs)\n",
      "    viz.simplematrix(confmat, yticklabels=classes, xticklabels=classes, xtickrotation=90)\n",
      "    return confmat\n",
      "\n",
      "def analyze(accuracies, intensities, predictions, items, cidiffs, conditions, e):\n",
      "    avgaccuracy=np.nanmean(accuracies, axis=0)\n",
      "    avgintensity=np.nanmean(intensities, axis=0)\n",
      "    predcounts, classes=countpredictions(predictions, items, conditions)\n",
      "    confmatrix=makeconfmatrix(predcounts, classes, items,e.discriminations[disc])\n",
      "    confusions={'predcounts':predcounts, 'confmatrix':confmatrix, 'classes':classes}\n",
      "    r,p=scipy.stats.pearsonr(avgaccuracy,avgintensity)\n",
      "    tag=''\n",
      "    if p<.05:\n",
      "        tag='******'\n",
      "    print \"correlation between avg intensity and avg accuracy: r=%.3f, p=%.3f %s\" %(r,p,tag)\n",
      "    t,p=scipy.stats.ttest_1samp(cidiffs, 0)\n",
      "    df = len(cidiffs) - 1\n",
      "    if t > 0:\n",
      "        p = p / 2\n",
      "    elif t < 0:\n",
      "        p = 1 - p / 2\n",
      "    tag=''\n",
      "    if p<.05:\n",
      "        tag='******'\n",
      "    statstring = \"M(SEM)=%.3f(%.3f), t(%.0f)=%.3f, p=%.3f (one-tailed) %s\" % (np.mean(cidiffs),np.std(cidiffs, ddof=1)/np.sqrt(len(cidiffs)), df, t, p, tag)\n",
      "    print statstring\n",
      "    return avgaccuracy, avgintensity, confusions"
     ],
     "language": "python",
     "metadata": {},
     "outputs": [],
     "prompt_number": 148
    },
    {
     "cell_type": "code",
     "collapsed": false,
     "input": [
      "resultsobj=None\n",
      "for disc in ['posvsneg_matched']:\n",
      "    selectors=e.discsels[disc]\n",
      "    for sel in selectors:\n",
      "        if printit:\n",
      "            print disc+': '+sel\n",
      "        for roi in roilist:\n",
      "            if printit:\n",
      "                print roi\n",
      "            includedsubjs=[]\n",
      "            intensities=[]\n",
      "            predictions=[]\n",
      "            accuracies=[]\n",
      "            items=[]\n",
      "            cidiffs=[]\n",
      "            for subjectn, subject in enumerate(subjects):\n",
      "                if subject.subjid in subjsubset:\n",
      "                    if roi in subject.rois.keys():\n",
      "                        includedsubjs.append(subject.subjid)\n",
      "                        inddir=subject.subjanalysisdir+subdir\n",
      "                        indfile=glob.glob(inddir+disc+'_'+sel+'_'+roi+'.pkl')\n",
      "                        with open(indfile[0], 'r') as inputfile:\n",
      "                            result=pickle.load(inputfile)\n",
      "                        if not items:\n",
      "                            conds=[elements for cond in e.discriminations[disc].values() for elements in cond]\n",
      "                            items=[makeitem(cond,num) for cond in conds for num in range(1,numitemspercond+1)]                        \n",
      "                        acc,pred,intensity=orderresults(items,result)\n",
      "                        cidiffs.append(comparecorcin(acc,intensity))\n",
      "                        accuracies.append(acc)\n",
      "                        predictions.append(pred)\n",
      "                        intensities.append(intensity)\n",
      "            if len(intensities)==numitems:\n",
      "                saveintensities(intensities,items)\n",
      "            avgaccuracy, avgintensity, confusions = analyze(accuracies, intensities, predictions, items, cidiffs, conditions, e)"
     ],
     "language": "python",
     "metadata": {},
     "outputs": [
      {
       "output_type": "stream",
       "stream": "stdout",
       "text": [
        "posvsneg_matched: runs\n",
        "RTPJ_tomloc\n"
       ]
      },
      {
       "metadata": {},
       "output_type": "display_data",
       "png": "[encoded data removed]",
       "text": [
        "<matplotlib.figure.Figure at 0xe5ea610>"
       ]
      },
      {
       "output_type": "stream",
       "stream": "stdout",
       "text": [
        "correlation between avg intensity and avg accuracy: r=-0.046, p=0.563 \n",
        "M(SEM)=-0.035(0.041), t(19)=-0.865, p=0.801 (one-tailed) \n",
        "LTPJ_tomloc\n"
       ]
      },
      {
       "metadata": {},
       "output_type": "display_data",
       "png": "[encoded data removed]",
       "text": [
        "<matplotlib.figure.Figure at 0x672e190>"
       ]
      },
      {
       "output_type": "stream",
       "stream": "stdout",
       "text": [
        "correlation between avg intensity and avg accuracy: r=-0.002, p=0.977 \n",
        "M(SEM)=-0.027(0.043), t(19)=-0.621, p=0.729 (one-tailed) \n",
        "RSTS_tomloc\n"
       ]
      },
      {
       "metadata": {},
       "output_type": "display_data",
       "png": "[encoded data removed]",
       "text": [
        "<matplotlib.figure.Figure at 0xebe79d0>"
       ]
      },
      {
       "output_type": "stream",
       "stream": "stdout",
       "text": [
        "correlation between avg intensity and avg accuracy: r=0.002, p=0.984 \n",
        "M(SEM)=-0.049(0.042), t(18)=-1.172, p=0.872 (one-tailed) \n",
        "PC_tomloc\n"
       ]
      },
      {
       "metadata": {},
       "output_type": "display_data",
       "png": "[encoded data removed]",
       "text": [
        "<matplotlib.figure.Figure at 0xe5d67d0>"
       ]
      },
      {
       "output_type": "stream",
       "stream": "stdout",
       "text": [
        "correlation between avg intensity and avg accuracy: r=-0.016, p=0.842 \n",
        "M(SEM)=-0.069(0.034), t(19)=-2.063, p=0.973 (one-tailed) \n",
        "DMPFC_tomloc\n"
       ]
      },
      {
       "metadata": {},
       "output_type": "display_data",
       "png": "[encoded data removed]",
       "text": [
        "<matplotlib.figure.Figure at 0xe5d0bd0>"
       ]
      },
      {
       "output_type": "stream",
       "stream": "stdout",
       "text": [
        "correlation between avg intensity and avg accuracy: r=-0.111, p=0.161 \n",
        "M(SEM)=-0.048(0.038), t(18)=-1.270, p=0.890 (one-tailed) \n",
        "MMPFC_tomloc\n"
       ]
      },
      {
       "metadata": {},
       "output_type": "display_data",
       "png": "[encoded data removed]",
       "text": [
        "<matplotlib.figure.Figure at 0xe3769d0>"
       ]
      },
      {
       "output_type": "stream",
       "stream": "stdout",
       "text": [
        "correlation between avg intensity and avg accuracy: r=-0.079, p=0.323 \n",
        "M(SEM)=-0.031(0.029), t(18)=-1.085, p=0.854 (one-tailed) \n",
        "VMPFC_tomloc\n"
       ]
      },
      {
       "metadata": {},
       "output_type": "display_data",
       "png": "[encoded data removed]",
       "text": [
        "<matplotlib.figure.Figure at 0x672f690>"
       ]
      },
      {
       "output_type": "stream",
       "stream": "stdout",
       "text": [
        "correlation between avg intensity and avg accuracy: r=-0.085, p=0.285 \n",
        "M(SEM)=-0.026(0.034), t(16)=-0.759, p=0.771 (one-tailed) \n",
        "lSTS_peelenpeak\n"
       ]
      },
      {
       "metadata": {},
       "output_type": "display_data",
       "png": "[encoded data removed]",
       "text": [
        "<matplotlib.figure.Figure at 0x5be6810>"
       ]
      },
      {
       "output_type": "stream",
       "stream": "stdout",
       "text": [
        "correlation between avg intensity and avg accuracy: r=-0.034, p=0.666 \n",
        "M(SEM)=-0.030(0.028), t(19)=-1.080, p=0.853 (one-tailed) \n"
       ]
      }
     ],
     "prompt_number": 149
    },
    {
     "cell_type": "code",
     "collapsed": false,
     "input": [],
     "language": "python",
     "metadata": {},
     "outputs": []
    }
   ],
   "metadata": {}
  }
 ]
}