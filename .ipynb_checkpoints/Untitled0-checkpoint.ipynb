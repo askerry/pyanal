{
 "metadata": {
  "name": "",
  "signature": "sha256:c6d473243522c1ef0e949674f05d10db924a1cd2234e8cc9bc723dec390f5fc0"
 },
 "nbformat": 3,
 "nbformat_minor": 0,
 "worksheets": []
}