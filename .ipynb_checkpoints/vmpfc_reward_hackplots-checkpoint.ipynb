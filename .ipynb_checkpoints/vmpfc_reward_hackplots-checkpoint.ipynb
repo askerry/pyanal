{
 "metadata": {
  "name": "",
  "signature": "sha256:6136d1fc40ade10bdb5a266cd679d85c3128dc71ac0dcbd54f8cc52d9c29ad7f"
 },
 "nbformat": 3,
 "nbformat_minor": 0,
 "worksheets": [
  {
   "cells": [
    {
     "cell_type": "code",
     "collapsed": false,
     "input": [
      "pylab inline"
     ],
     "language": "python",
     "metadata": {},
     "outputs": [
      {
       "output_type": "stream",
       "stream": "stdout",
       "text": [
        "Populating the interactive namespace from numpy and matplotlib\n"
       ]
      }
     ],
     "prompt_number": 1
    },
    {
     "cell_type": "code",
     "collapsed": false,
     "input": [
      "import sys\n",
      "sys.path.append('/mindhive/saxelab/scripts/aesscripts/')\n",
      "import mypymvpa.utilities.visualization as viz\n",
      "import numpy as np\n",
      "import scipy.stats as sst\n",
      "import matplotlib.pyplot as plt\n",
      "import seaborn as sns"
     ],
     "language": "python",
     "metadata": {},
     "outputs": [],
     "prompt_number": 2
    },
    {
     "cell_type": "code",
     "collapsed": false,
     "input": [
      "#little plots of univariate responses in rangel VMPFC group ROI\n",
      "VMPFC_reward_means=[-0.967,-1.030,-0.471,-0.654]\n",
      "VMPFC_reward_sems=[0.066,0.066,0.077,0.061]\n",
      "VMPFC_reward_labels=['positive \\nsituations','negative \\nsituations','positive \\nreward values','negative \\nreward values']\n",
      "viz.simplebar(VMPFC_reward_means, figsize=[2.8,4],width=.8,xtickrotation=90,yerr=VMPFC_reward_sems, colors=['#6666C2','#6666C2','#5E1C70','#5E1C70'], ylabel='beta value',despine=True,xticklabels=VMPFC_reward_labels, plot2plotly=True)"
     ],
     "language": "python",
     "metadata": {},
     "outputs": [
      {
       "output_type": "stream",
       "stream": "stderr",
       "text": [
        "/mindhive/saxelab/u/askerry/mypythonenv/lib/python2.7/site-packages/matplotlib/font_manager.py:1236: UserWarning:\n",
        "\n",
        "findfont: Font family ['Arial'] not found. Falling back to Bitstream Vera Sans\n",
        "\n"
       ]
      },
      {
       "metadata": {},
       "output_type": "display_data",
       "png": "[encoded data removed]",
       "text": [
        "<matplotlib.figure.Figure at 0x422d090>"
       ]
      },
      {
       "metadata": {},
       "output_type": "pyout",
       "prompt_number": 3,
       "text": [
        "<matplotlib.axes.AxesSubplot at 0x422d390>"
       ]
      }
     ],
     "prompt_number": 3
    },
    {
     "cell_type": "code",
     "collapsed": false,
     "input": [
      "posn=[-1.0263, -0.56420000000000003, -1.1115999999999999, -1.0019, -1.4691000000000001, -0.4471, -0.78749999999999998, -0.87949999999999995, -0.77859999999999996, -0.90400000000000003, -1.1439999999999999, -1.0204, -1.1477999999999999, -1.3695999999999999, -0.80800000000000005, -1.0135000000000001]\n",
      "negn=[-1.2024999999999999, -0.77329999999999999, -1.0186999999999999, -0.80279999999999996, -1.6684000000000001, -0.8145, -0.7107, -0.91979999999999995, -1.1191, -1.0053000000000001, -1.1099000000000001, -0.88639999999999997, -0.93969999999999998, -1.1224000000000001, -0.85470000000000002, -1.5373000000000001]\n",
      "negr=[-0.83309999999999995, -0.45960000000000001, -0.81159999999999999, -0.94320000000000004, -1.0112000000000001, -0.0332, -0.75549999999999995, -0.60419999999999996, -0.70899999999999996, -0.74490000000000001, -0.73460000000000003, -0.45400000000000001, -0.46110000000000001, -0.63480000000000003, -0.41470000000000001, -0.85819999999999996]\n",
      "posr=[-0.32629999999999998, -0.049700000000000001, -0.44729999999999998, -0.62729999999999997, -1.2859, -0.25280000000000002, -0.3594, -0.37490000000000001, -0.30220000000000002, -0.7046, -0.77810000000000001, -0.2157, -0.38129999999999997, -0.46200000000000002, -0.1636, -0.8085]"
     ],
     "language": "python",
     "metadata": {},
     "outputs": [],
     "prompt_number": 4
    },
    {
     "cell_type": "code",
     "collapsed": false,
     "input": [
      "ndiff=np.array(posn)-np.array(negn)\n",
      "rdiff=np.array(posr)-np.array(negr)"
     ],
     "language": "python",
     "metadata": {},
     "outputs": [],
     "prompt_number": 5
    },
    {
     "cell_type": "code",
     "collapsed": false,
     "input": [
      "df=len(ndiff)-1\n",
      "t,p =  sst.ttest_rel(rdiff, ndiff)\n",
      "mean1=np.mean(rdiff)\n",
      "mean2=np.mean(ndiff)\n",
      "sems=[np.std(rdiff,ddof=1)/np.sqrt(len(rdiff)),np.std(ndiff,ddof=1)/np.sqrt(len(ndiff))]\n",
      "string='VMPFC(reward):reward - situations(univariate diffs):M(SEM)=%.3f(%.3f), M(SEM)=%.3f(%.3f) : t(%.0f)=%.3f, p=%.3f.' % (mean1,sems[0],mean2,sems[1],df,t,p)\n",
      "print string"
     ],
     "language": "python",
     "metadata": {},
     "outputs": [
      {
       "output_type": "stream",
       "stream": "stdout",
       "text": [
        "VMPFC(reward):reward - situations(univariate diffs):M(SEM)=0.183(0.057), M(SEM)=0.063(0.057) : t(15)=1.343, p=0.199.\n"
       ]
      }
     ],
     "prompt_number": 6
    },
    {
     "cell_type": "code",
     "collapsed": false,
     "input": [],
     "language": "python",
     "metadata": {},
     "outputs": [],
     "prompt_number": 6
    },
    {
     "cell_type": "code",
     "collapsed": false,
     "input": [
      "pmeans=[0.052649999999999988, -0.12593750000000001, 0.12163750000000002, -0.13822499999999999, -0.037418749999999987, 0.10292499999999999, -0.32724999999999999, 0.29612500000000003, -0.33163749999999997, -0.18052499999999999, -0.075868749999999985, 0.064062499999999994, 0.10734375000000002, 0.097925000000000012, 0.32191875000000003, 0.14099374999999997, 0.29504374999999999, 0.36099999999999999]\n",
      "psems=[0.10724737409372782, 0.18207850227191383, 0.14264830729075151, 0.1054312333150539, 0.09805210868833554, 0.14923564350270571, 0.13264284030181703, 0.18009133851558029, 0.23136845306332637, 0.10714442181000372, 0.11516377784078856, 0.10323499320926342, 0.12245302839890282, 0.075222067074762047, 0.12724136651090515, 0.10553872491047619, 0.13334815239588374, 0.1003518219399462]\n",
      "pmeans=pmeans[9:]\n",
      "psems=psems[9:]\n",
      "conditions=['$0.20','$0.40','$0.60','$0.80','$1.00','$1.20','$1.40','$1.60','$1.80']"
     ],
     "language": "python",
     "metadata": {},
     "outputs": [],
     "prompt_number": 7
    },
    {
     "cell_type": "code",
     "collapsed": false,
     "input": [
      "f,ax=plt.subplots(figsize=[3,4])\n",
      "ax.errorbar(range(len(pmeans)),pmeans, yerr=psems)\n",
      "ax.set_xticks([0,1,2,3,4,5,6,7,8])\n",
      "ax.set_xticklabels(conditions, rotation=90)\n",
      "ax.set_xlabel('positive reward values')\n",
      "ax.set_xlim(-.5,8.5)\n",
      "ax.set_ylabel('beta value')\n",
      "sns.despine()"
     ],
     "language": "python",
     "metadata": {},
     "outputs": [
      {
       "metadata": {},
       "output_type": "display_data",
       "png": "[encoded data removed]",
       "text": [
        "<matplotlib.figure.Figure at 0x421efd0>"
       ]
      }
     ],
     "prompt_number": 8
    },
    {
     "cell_type": "code",
     "collapsed": false,
     "input": [],
     "language": "python",
     "metadata": {},
     "outputs": []
    }
   ],
   "metadata": {}
  }
 ]
}