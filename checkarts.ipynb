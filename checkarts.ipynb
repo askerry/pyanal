{
 "metadata": {
  "name": "",
  "signature": "sha256:19877aa35e82fe0ad4b370559d7ca33dd6f934f81b08002bf9bfa084c2f60cc9"
 },
 "nbformat": 3,
 "nbformat_minor": 0,
 "worksheets": [
  {
   "cells": [
    {
     "cell_type": "code",
     "collapsed": false,
     "input": [
      "pylab inline"
     ],
     "language": "python",
     "metadata": {},
     "outputs": [
      {
       "output_type": "stream",
       "stream": "stdout",
       "text": [
        "Populating the interactive namespace from numpy and matplotlib\n"
       ]
      }
     ],
     "prompt_number": 3
    },
    {
     "cell_type": "code",
     "collapsed": false,
     "input": [
      "import scipy\n",
      "import scipy.io\n",
      "import sys\n",
      "import os.path\n",
      "sys.path.append('/software/python/anaconda/lib/python2.7/site-packages/') #for h5py\n",
      "import h5py\n",
      "sys.path.append('/mindhive/saxelab/scripts/aesscripts/') #for mypymvpa\n",
      "import roiextraction_funcs as ref\n",
      "import seaborn as sns\n",
      "from mypymvpa.utilities.misc import makeIDs"
     ],
     "language": "python",
     "metadata": {},
     "outputs": [],
     "prompt_number": 32
    },
    {
     "cell_type": "code",
     "collapsed": false,
     "input": [
      "rootdir='/mindhive/saxelab2/FGE/'\n",
      "subjectlists=makeIDs('FGE',range(1,21))"
     ],
     "language": "python",
     "metadata": {},
     "outputs": [],
     "prompt_number": 168
    },
    {
     "cell_type": "code",
     "collapsed": false,
     "input": [
      "def findmaxcontgnuous(array):\n",
      "    contigmax=0\n",
      "    streak=0\n",
      "    for el in array:\n",
      "        if el:\n",
      "            streak += 1\n",
      "        else:\n",
      "            streak=0\n",
      "        if streak>contigmax:\n",
      "            contigmax=streak\n",
      "    return contigmax\n",
      "\n",
      "def loadsubjmat(matfile, globalkey):\n",
      "    '''expects s.ID, s.ASD, s.EmoBioLoc, s.tomloc, s.EIB_main, but should be flexible-ish'''\n",
      "    print \"loading file: \" + matfile + \" as subjinfo\"\n",
      "    try:\n",
      "        f = scipy.io.loadmat(matfile)\n",
      "    except:\n",
      "        f = h5py.File(matfile, 'r')\n",
      "        #globalkey = f.keys()[1]\n",
      "    data = f.get(globalkey)\n",
      "    keys = data.keys()\n",
      "    subjects = []\n",
      "    for a in range(len(data[keys[0]])):\n",
      "        subject = {}\n",
      "        for key in keys:\n",
      "            try:\n",
      "                entry = f[data[key][a][0]]\n",
      "            except:\n",
      "                entry = data[key]\n",
      "            if entry.dtype == 'u2':\n",
      "                entry = u''.join(unichr(i[0]) for i in entry.value)\n",
      "            else:\n",
      "                try:\n",
      "                    #if subj mat contains entries that should be floats (like age) add them here\n",
      "                    if key in ('age'):\n",
      "                        entry = [float(i[0]) for i in entry.value]\n",
      "                    else:\n",
      "                        entry = [int(i[0]) for i in entry.value]\n",
      "                except:\n",
      "                    entry = [(i) for i in entry.value]\n",
      "            subject[key] = entry\n",
      "        subjects.append(subject)\n",
      "    return subjects"
     ],
     "language": "python",
     "metadata": {},
     "outputs": [],
     "prompt_number": 169
    },
    {
     "cell_type": "code",
     "collapsed": false,
     "input": [
      "subjinfo=loadsubjmat(os.path.join(rootdir,'FGE_subject_taskruns.mat'), 'f')\n",
      "subjmat={s['ID']:{item[0]:item[1] for item in s.items() if item[0]!='ID'} for s in subjinfo}\n",
      "eliminateruns={subj:[[],[]] for subj in subjectlists}\n",
      "for subj in subjectlists:\n",
      "    bolddir=os.path.join(rootdir, subj,'bold')\n",
      "    bolds=os.listdir(bolddir)\n",
      "    for b in bolds:\n",
      "        rundir=os.path.join(bolddir, b)\n",
      "        artfiles=[os.path.join(rundir,f) for f in os.listdir(rundir) if 'art_regression_outliers_swrf' in f]\n",
      "        artsloaded = h5py.File(artfiles[0], 'r')\n",
      "        mat = np.array(artsloaded['R'])\n",
      "        arts=sum(mat,axis=0)\n",
      "        if type(arts)!=np.uint64:\n",
      "            maxcontig=findmaxcontgnuous(arts)\n",
      "            if maxcontig>5 and len(arts)==221:\n",
      "                info=subjmat[subj]['FGE_main']\n",
      "                index=info.index(int(b))\n",
      "                behavef=\"%s.FGE_main.%s.mat\" %(subj,index+1)\n",
      "                behave=os.path.join(rootdir,'behavioural',behavef)\n",
      "                bf=scipy.io.loadmat(behave)\n",
      "                spminputs=bf['spm_inputs'][0]\n",
      "                for tup in spminputs:\n",
      "                    cond=tup[0][0]\n",
      "                    onset=tup[1][0][0]\n",
      "                    dur=tup[2][0][0]\n",
      "                    indices=[onset-1,onset-1+dur]\n",
      "                    artset=arts[indices[0]: indices[1]]\n",
      "                    if sum(artset)<6:\n",
      "                        pass\n",
      "                    else:\n",
      "                        eliminateruns[subj][0].append(b)\n",
      "                        eliminateruns[subj][1].append(cond)\n",
      "                        print artfiles[0]\n",
      "                        print \"all but %s TRs eliminated for %s\" % (dur-sum(artset),cond)\n",
      "                        print artset\n"
     ],
     "language": "python",
     "metadata": {},
     "outputs": [
      {
       "output_type": "stream",
       "stream": "stdout",
       "text": [
        "loading file: /mindhive/saxelab2/FGE/FGE_subject_taskruns.mat as subjinfo\n",
        "/mindhive/saxelab2/FGE/SAX_FGE_02/bold/030/art_regression_outliers_swrf0-0030-00001-000001-01.mat"
       ]
      },
      {
       "output_type": "stream",
       "stream": "stdout",
       "text": [
        "\n",
        "all but 0.0 TRs eliminated for CON\n",
        "[ 1.  1.  1.  1.  1.  1.  1.]\n",
        "/mindhive/saxelab2/FGE/SAX_FGE_07/bold/030/art_regression_outliers_swrf0-0030-00001-000001-01.mat"
       ]
      },
      {
       "output_type": "stream",
       "stream": "stdout",
       "text": [
        "\n",
        "all but 1.0 TRs eliminated for JOY\n",
        "[ 1.  1.  1.  0.  1.  1.  1.]\n",
        "/mindhive/saxelab2/FGE/SAX_FGE_07/bold/038/art_regression_outliers_swrf0-0038-00001-000001-01.mat\n",
        "all but 1.0 TRs eliminated for LON\n",
        "[ 1.  1.  1.  1.  1.  1.  0.]\n",
        "/mindhive/saxelab2/FGE/SAX_FGE_09/bold/034/art_regression_outliers_swrf0-0034-00001-000001-01.mat"
       ]
      },
      {
       "output_type": "stream",
       "stream": "stdout",
       "text": [
        "\n",
        "all but 1.0 TRs eliminated for SUR\n",
        "[ 1.  1.  1.  1.  1.  1.  0.]\n",
        "/mindhive/saxelab2/FGE/SAX_FGE_11/bold/026/art_regression_outliers_swrf0-0026-00001-000001-01.mat"
       ]
      },
      {
       "output_type": "stream",
       "stream": "stdout",
       "text": [
        "\n",
        "all but 0.0 TRs eliminated for DIP\n",
        "[ 1.  1.  1.  1.  1.  1.  1.]\n",
        "/mindhive/saxelab2/FGE/SAX_FGE_11/bold/026/art_regression_outliers_swrf0-0026-00001-000001-01.mat\n",
        "all but 1.0 TRs eliminated for ANN\n",
        "[ 0.  1.  1.  1.  1.  1.  1.]\n",
        "/mindhive/saxelab2/FGE/SAX_FGE_13/bold/032/art_regression_outliers_swrf0-0032-00001-000001-01.mat"
       ]
      },
      {
       "output_type": "stream",
       "stream": "stdout",
       "text": [
        "\n",
        "all but 0.0 TRs eliminated for EMB\n",
        "[ 1.  1.  1.  1.  1.  1.  1.]\n",
        "/mindhive/saxelab2/FGE/SAX_FGE_15/bold/016/art_regression_outliers_swrf0-0016-00001-000001-01.mat"
       ]
      },
      {
       "output_type": "stream",
       "stream": "stdout",
       "text": [
        "\n",
        "all but 1.0 TRs eliminated for JOY\n",
        "[ 0.  1.  1.  1.  1.  1.  1.]\n",
        "/mindhive/saxelab2/FGE/SAX_FGE_15/bold/020/art_regression_outliers_swrf0-0020-00001-000001-01.mat\n",
        "all but 1.0 TRs eliminated for HOP\n",
        "[ 1.  1.  1.  1.  1.  1.  0.]\n",
        "/mindhive/saxelab2/FGE/SAX_FGE_15/bold/026/art_regression_outliers_swrf0-0026-00001-000001-01.mat\n",
        "all but 1.0 TRs eliminated for LON\n",
        "[ 0.  1.  1.  1.  1.  1.  1.]\n",
        "/mindhive/saxelab2/FGE/SAX_FGE_15/bold/028/art_regression_outliers_swrf0-0028-00001-000001-01.mat\n",
        "all but 0.0 TRs eliminated for GRA\n",
        "[ 1.  1.  1.  1.  1.  1.  1.]\n",
        "/mindhive/saxelab2/FGE/SAX_FGE_15/bold/030/art_regression_outliers_swrf0-0030-00001-000001-01.mat"
       ]
      },
      {
       "output_type": "stream",
       "stream": "stdout",
       "text": [
        "\n",
        "all but 1.0 TRs eliminated for EMB\n",
        "[ 0.  1.  1.  1.  1.  1.  1.]\n",
        "/mindhive/saxelab2/FGE/SAX_FGE_15/bold/030/art_regression_outliers_swrf0-0030-00001-000001-01.mat\n",
        "all but 0.0 TRs eliminated for JEA\n",
        "[ 1.  1.  1.  1.  1.  1.  1.]\n",
        "/mindhive/saxelab2/FGE/SAX_FGE_15/bold/032/art_regression_outliers_swrf0-0032-00001-000001-01.mat\n",
        "all but 0.0 TRs eliminated for DIP\n",
        "[ 1.  1.  1.  1.  1.  1.  1.]\n",
        "/mindhive/saxelab2/FGE/SAX_FGE_15/bold/034/art_regression_outliers_swrf0-0034-00001-000001-01.mat\n",
        "all but 1.0 TRs eliminated for LON\n",
        "[ 1.  1.  1.  1.  1.  1.  0.]\n",
        "/mindhive/saxelab2/FGE/SAX_FGE_17/bold/020/art_regression_outliers_swrf0-0020-00001-000001-01.mat"
       ]
      },
      {
       "output_type": "stream",
       "stream": "stdout",
       "text": [
        "\n",
        "all but 1.0 TRs eliminated for IMP\n",
        "[ 1.  1.  1.  1.  1.  1.  0.]\n",
        "/mindhive/saxelab2/FGE/SAX_FGE_17/bold/032/art_regression_outliers_swrf0-0032-00001-000001-01.mat\n",
        "all but 0.0 TRs eliminated for TER\n",
        "[ 1.  1.  1.  1.  1.  1.  1.]\n",
        "/mindhive/saxelab2/FGE/SAX_FGE_20/bold/018/art_regression_outliers_swrf0-0018-00001-000001-01.mat"
       ]
      },
      {
       "output_type": "stream",
       "stream": "stdout",
       "text": [
        "\n",
        "all but 1.0 TRs eliminated for PRO\n",
        "[ 0.  1.  1.  1.  1.  1.  1.]\n"
       ]
      }
     ],
     "prompt_number": 175
    },
    {
     "cell_type": "code",
     "collapsed": false,
     "input": [
      "eliminateruns"
     ],
     "language": "python",
     "metadata": {},
     "outputs": [
      {
       "metadata": {},
       "output_type": "pyout",
       "prompt_number": 176,
       "text": [
        "{'SAX_FGE_01': [[], []],\n",
        " 'SAX_FGE_02': [['030'], [u'CON']],\n",
        " 'SAX_FGE_03': [[], []],\n",
        " 'SAX_FGE_04': [[], []],\n",
        " 'SAX_FGE_05': [[], []],\n",
        " 'SAX_FGE_06': [[], []],\n",
        " 'SAX_FGE_07': [['030', '038'], [u'JOY', u'LON']],\n",
        " 'SAX_FGE_08': [[], []],\n",
        " 'SAX_FGE_09': [['034'], [u'SUR']],\n",
        " 'SAX_FGE_10': [[], []],\n",
        " 'SAX_FGE_11': [['026', '026'], [u'DIP', u'ANN']],\n",
        " 'SAX_FGE_12': [[], []],\n",
        " 'SAX_FGE_13': [['032'], [u'EMB']],\n",
        " 'SAX_FGE_14': [[], []],\n",
        " 'SAX_FGE_15': [['016', '020', '026', '028', '030', '030', '032', '034'],\n",
        "  [u'JOY', u'HOP', u'LON', u'GRA', u'EMB', u'JEA', u'DIP', u'LON']],\n",
        " 'SAX_FGE_16': [[], []],\n",
        " 'SAX_FGE_17': [['020', '032'], [u'IMP', u'TER']],\n",
        " 'SAX_FGE_18': [[], []],\n",
        " 'SAX_FGE_19': [[], []],\n",
        " 'SAX_FGE_20': [['018'], [u'PRO']]}"
       ]
      }
     ],
     "prompt_number": 176
    },
    {
     "cell_type": "code",
     "collapsed": false,
     "input": [],
     "language": "python",
     "metadata": {},
     "outputs": []
    }
   ],
   "metadata": {}
  }
 ]
}