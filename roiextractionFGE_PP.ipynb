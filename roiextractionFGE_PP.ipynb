{
 "metadata": {
  "name": "",
  "signature": "sha256:ba6f0f4d7b486fb4629388e437e6d5e105870cb6ab68684832dfb204254b4376"
 },
 "nbformat": 3,
 "nbformat_minor": 0,
 "worksheets": [
  {
   "cells": [
    {
     "cell_type": "code",
     "collapsed": false,
     "input": [
      "pylab inline"
     ],
     "language": "python",
     "metadata": {},
     "outputs": [
      {
       "output_type": "stream",
       "stream": "stdout",
       "text": [
        "Populating the interactive namespace from numpy and matplotlib\n"
       ]
      }
     ],
     "prompt_number": 1
    },
    {
     "cell_type": "code",
     "collapsed": false,
     "input": [
      "%load_ext autoreload"
     ],
     "language": "python",
     "metadata": {},
     "outputs": [],
     "prompt_number": 2
    },
    {
     "cell_type": "code",
     "collapsed": false,
     "input": [
      "%autoreload\n",
      "import os\n",
      "import pandas as pd\n",
      "import sys\n",
      "sys.path.append('/mindhive/saxelab/scripts/aesscripts/') #for mypymvpa\n",
      "import roiextraction_funcs_PP as ref\n",
      "import seaborn as sns\n",
      "from mypymvpa.utilities.misc import makeIDs\n",
      "import glob"
     ],
     "language": "python",
     "metadata": {},
     "outputs": [],
     "prompt_number": 19
    },
    {
     "cell_type": "code",
     "collapsed": false,
     "input": [
      "#set exp details\n",
      "rootdir='/mindhive/saxelab2/'\n",
      "studyname='FGE'\n",
      "studydir=os.path.join(rootdir,studyname)\n",
      "roidir='ROI'\n",
      "taskname='FGE_main'\n",
      "conditions=['DEV', 'DIP', 'ANN', 'APP', 'DIG', 'EMB', 'FUR', 'GUI', 'JEA', 'TER', 'LON', 'EXC', 'JOY', 'PRO', 'CON', 'GRA', 'HOP', 'IMP', 'NOS', 'SUR', 'PAI']\n",
      "subjlist=makeIDs('FGE',[1,21])"
     ],
     "language": "python",
     "metadata": {},
     "outputs": [],
     "prompt_number": 10
    },
    {
     "cell_type": "code",
     "collapsed": false,
     "input": [
      "#assign colors\n",
      "allcolors=sns.color_palette(\"husl\", 30)\n",
      "colors=allcolors[5:16] #to create sharper division between pos and neg\n",
      "colors.extend(allcolors[21:30])\n",
      "colors.append('brown')"
     ],
     "language": "python",
     "metadata": {},
     "outputs": [],
     "prompt_number": 11
    },
    {
     "cell_type": "code",
     "collapsed": false,
     "input": [
      "#specify sets of conditions to combine and compare\n",
      "valencedict={'pos':{'conds':['EXC', 'JOY','PRO','CON','GRA','HOP','IMP'], 'color':'pink'}, 'neg':{'conds':['DEV','DIP','ANN','APP','DIG','EMB','FUR','GUI','JEA','TER','LON'], 'color':'green'}}\n",
      "emopaindict={'emo':{'conds':['EXC', 'JOY','PRO','CON','GRA','HOP','IMP', 'SUR', 'DEV','DIP','ANN','APP','DIG','EMB','FUR','GUI','JEA','TER','LON'], 'color':'red'}, 'pain':{'conds':['PAI'], 'color':'brown'}}\n",
      "comparisons=[valencedict,emopaindict]"
     ],
     "language": "python",
     "metadata": {},
     "outputs": [],
     "prompt_number": 12
    },
    {
     "cell_type": "code",
     "collapsed": false,
     "input": [
      "%autoreload\n",
      "pscfiles,betafiles=ref.findextractedfiles(studydir,roidir,taskname)"
     ],
     "language": "python",
     "metadata": {},
     "outputs": [
      {
       "output_type": "stream",
       "stream": "stdout",
       "text": [
        "/mindhive/saxelab2/FGE/ROI/PSC**FGE_main*\n"
       ]
      }
     ],
     "prompt_number": 16
    },
    {
     "cell_type": "code",
     "collapsed": false,
     "input": [
      "%autoreload\n",
      "ref.analyzepsc(pscfiles,conditions,colors,subjlist, limittimecourse=[1,-2])"
     ],
     "language": "python",
     "metadata": {},
     "outputs": [],
     "prompt_number": 8
    },
    {
     "cell_type": "code",
     "collapsed": false,
     "input": [
      "roilist=ref.analyzebetas(betafiles,conditions,colors,subjlist)"
     ],
     "language": "python",
     "metadata": {},
     "outputs": [],
     "prompt_number": 9
    },
    {
     "cell_type": "code",
     "collapsed": false,
     "input": [
      "ref.compareconds(studydir,roidir,taskname,roilist,comparisons,subjlist)"
     ],
     "language": "python",
     "metadata": {},
     "outputs": [
      {
       "output_type": "stream",
       "stream": "stdout",
       "text": [
        "{'neg': {'color': 'green', 'conds': ['DEV', 'DIP', 'ANN', 'APP', 'DIG', 'EMB', 'FUR', 'GUI', 'JEA', 'TER', 'LON']}, 'pos': {'color': 'pink', 'conds': ['EXC', 'JOY', 'PRO', 'CON', 'GRA', 'HOP', 'IMP']}}\n",
        "{'emo': {'color': 'red', 'conds': ['EXC', 'JOY', 'PRO', 'CON', 'GRA', 'HOP', 'IMP', 'SUR', 'DEV', 'DIP', 'ANN', 'APP', 'DIG', 'EMB', 'FUR', 'GUI', 'JEA', 'TER', 'LON']}, 'pain': {'color': 'brown', 'conds': ['PAI']}}\n"
       ]
      }
     ],
     "prompt_number": 10
    },
    {
     "cell_type": "code",
     "collapsed": false,
     "input": [],
     "language": "python",
     "metadata": {},
     "outputs": [],
     "prompt_number": 12
    },
    {
     "cell_type": "code",
     "collapsed": false,
     "input": [],
     "language": "python",
     "metadata": {},
     "outputs": []
    },
    {
     "cell_type": "code",
     "collapsed": false,
     "input": [],
     "language": "python",
     "metadata": {},
     "outputs": []
    },
    {
     "cell_type": "code",
     "collapsed": false,
     "input": [],
     "language": "python",
     "metadata": {},
     "outputs": []
    }
   ],
   "metadata": {}
  }
 ]
}